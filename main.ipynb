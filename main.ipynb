{
 "cells": [
  {
   "cell_type": "code",
   "execution_count": 168,
   "metadata": {
    "collapsed": true,
    "ExecuteTime": {
     "end_time": "2024-01-04T23:14:54.872546300Z",
     "start_time": "2024-01-04T23:14:54.786553200Z"
    }
   },
   "outputs": [],
   "source": [
    "# !pip install langchain\n",
    "# !pip install pypdf\n",
    "# !pip install google-cloud-aiplatform>=1.38.0\n",
    "# !pip install chromadb"
   ]
  },
  {
   "cell_type": "code",
   "execution_count": 169,
   "outputs": [
    {
     "data": {
      "text/plain": "True"
     },
     "execution_count": 169,
     "metadata": {},
     "output_type": "execute_result"
    }
   ],
   "source": [
    "import dotenv\n",
    "\n",
    "dotenv.load_dotenv(\".env\")"
   ],
   "metadata": {
    "collapsed": false,
    "ExecuteTime": {
     "end_time": "2024-01-04T23:14:54.910063200Z",
     "start_time": "2024-01-04T23:14:54.795590900Z"
    }
   }
  },
  {
   "cell_type": "markdown",
   "source": [
    "# PDF Loader"
   ],
   "metadata": {
    "collapsed": false
   }
  },
  {
   "cell_type": "code",
   "execution_count": 170,
   "outputs": [],
   "source": [
    "from langchain.document_loaders import PyPDFLoader\n",
    "import glob\n",
    "\n",
    "pdf_directory = \"data/outbox/\"\n",
    "\n",
    "pdf_files = glob.glob(pdf_directory + \"*.pdf\")\n",
    "\n",
    "loaders = [PyPDFLoader(pdf_file) for pdf_file in pdf_files]\n",
    "docs = []\n",
    "\n",
    "for loader in loaders:\n",
    "    docs.extend(loader.load())"
   ],
   "metadata": {
    "collapsed": false,
    "ExecuteTime": {
     "end_time": "2024-01-04T23:14:57.679565800Z",
     "start_time": "2024-01-04T23:14:54.811545500Z"
    }
   }
  },
  {
   "cell_type": "code",
   "execution_count": 171,
   "outputs": [],
   "source": [
    "import glob\n",
    "import pdfplumber\n",
    "\n",
    "pdf_directory = \"data/pdfs/\"\n",
    "pdf_files = glob.glob(pdf_directory + \"*.pdf\")\n",
    "decks = []\n",
    "document = []\n",
    "\n",
    "class MyDocument:\n",
    "    def __init__(self, page_content, metadata):\n",
    "        self.page_content = page_content\n",
    "        self.metadata = {\"file_name\": metadata}\n",
    "\n",
    "for pdf_file in pdf_files:\n",
    "    try:\n",
    "        with pdfplumber.open(pdf_file) as pdf_document:\n",
    "            for page_number in range(len(pdf_document.pages)):\n",
    "                text = pdf_document.pages[page_number].extract_text()\n",
    "                # Do something with the extracted text, e.g., store it in 'docs'\n",
    "                document.append(text)\n",
    "            decks.append(MyDocument(\" ,\".join(document), pdf_file))\n",
    "    except Exception as e:\n",
    "        print(f\"Error processing {pdf_file}: {e}\")\n",
    "\n",
    "# Now 'docs' contains the extracted text from all PDF documents"
   ],
   "metadata": {
    "collapsed": false,
    "ExecuteTime": {
     "end_time": "2024-01-04T23:15:59.434838Z",
     "start_time": "2024-01-04T23:14:57.683563500Z"
    }
   }
  },
  {
   "cell_type": "code",
   "execution_count": 208,
   "outputs": [],
   "source": [
    "# for deck in decks[:10]:\n",
    "#     print(deck.page_content)"
   ],
   "metadata": {
    "collapsed": false,
    "ExecuteTime": {
     "end_time": "2024-01-04T23:25:27.072712700Z",
     "start_time": "2024-01-04T23:25:27.061379100Z"
    }
   }
  },
  {
   "cell_type": "code",
   "execution_count": 207,
   "outputs": [],
   "source": [
    "all_docs = docs + decks"
   ],
   "metadata": {
    "collapsed": false,
    "ExecuteTime": {
     "end_time": "2024-01-04T23:25:22.681718500Z",
     "start_time": "2024-01-04T23:25:22.665476200Z"
    }
   }
  },
  {
   "cell_type": "code",
   "execution_count": 173,
   "outputs": [],
   "source": [
    "from langchain.text_splitter import RecursiveCharacterTextSplitter\n",
    "\n",
    "text_splitter = RecursiveCharacterTextSplitter(\n",
    "    chunk_size = 1500,\n",
    "    chunk_overlap = 150\n",
    ")\n",
    "\n",
    "splits = text_splitter.split_documents(docs)"
   ],
   "metadata": {
    "collapsed": false,
    "ExecuteTime": {
     "end_time": "2024-01-04T23:15:59.568771Z",
     "start_time": "2024-01-04T23:15:59.454919400Z"
    }
   }
  },
  {
   "cell_type": "code",
   "execution_count": 210,
   "outputs": [
    {
     "data": {
      "text/plain": "539"
     },
     "execution_count": 210,
     "metadata": {},
     "output_type": "execute_result"
    }
   ],
   "source": [
    "len(splits)"
   ],
   "metadata": {
    "collapsed": false,
    "ExecuteTime": {
     "end_time": "2024-01-04T23:27:13.354954300Z",
     "start_time": "2024-01-04T23:27:13.340454600Z"
    }
   }
  },
  {
   "cell_type": "markdown",
   "source": [
    "# Embedding and VectorStore"
   ],
   "metadata": {
    "collapsed": false
   }
  },
  {
   "cell_type": "code",
   "execution_count": 175,
   "outputs": [
    {
     "name": "stderr",
     "output_type": "stream",
     "text": [
      "Model_name will become a required arg for VertexAIEmbeddings starting from Feb-01-2024. Currently the default is set to textembedding-gecko@001\n"
     ]
    }
   ],
   "source": [
    "from langchain_community.embeddings import VertexAIEmbeddings\n",
    "\n",
    "embeddings = VertexAIEmbeddings()"
   ],
   "metadata": {
    "collapsed": false,
    "ExecuteTime": {
     "end_time": "2024-01-04T23:16:01.576163600Z",
     "start_time": "2024-01-04T23:15:59.598956100Z"
    }
   }
  },
  {
   "cell_type": "code",
   "execution_count": 176,
   "outputs": [],
   "source": [
    "from langchain.vectorstores import Chroma\n",
    "\n",
    "persist_directory = 'data/chroma/'\n",
    "\n",
    "vectordb = Chroma.from_documents(\n",
    "    documents=splits,\n",
    "    embedding=embeddings,\n",
    "    persist_directory=persist_directory\n",
    ")"
   ],
   "metadata": {
    "collapsed": false,
    "ExecuteTime": {
     "end_time": "2024-01-04T23:16:13.368479500Z",
     "start_time": "2024-01-04T23:16:01.583282Z"
    }
   }
  },
  {
   "cell_type": "code",
   "execution_count": 177,
   "outputs": [],
   "source": [
    "from langchain_community.chat_models import ChatVertexAI\n",
    "from langchain.llms import VertexAI\n",
    "\n",
    "# llm = ChatVertexAI(location=\"us-central1\")\n",
    "#\n",
    "llm = VertexAI(model=\"gemini-pro\", verbose=True, temperature=0)"
   ],
   "metadata": {
    "collapsed": false,
    "ExecuteTime": {
     "end_time": "2024-01-04T23:16:16.343465100Z",
     "start_time": "2024-01-04T23:16:13.374477500Z"
    }
   }
  },
  {
   "cell_type": "markdown",
   "source": [
    "# Retrieval QnA"
   ],
   "metadata": {
    "collapsed": false
   }
  },
  {
   "cell_type": "code",
   "execution_count": 178,
   "outputs": [],
   "source": [
    "from langchain.prompts import PromptTemplate\n",
    "\n",
    "template = \"\"\"You are a Data Analyst. Use the following pieces of context to answer the question at the end. If you don't know the answer, just say that you don't know, don't try to make up an answer. Try to be as detailed and point wise as possible. Always say \"thanks for asking!\" at the end of the answer. ONLY USE ENGLISH FOR RESPONDING.\n",
    "{context}\n",
    "Question: {question}\n",
    "Helpful Answer:\"\"\"\n",
    "QA_CHAIN_PROMPT = PromptTemplate.from_template(template)"
   ],
   "metadata": {
    "collapsed": false,
    "ExecuteTime": {
     "end_time": "2024-01-04T23:16:16.344497900Z",
     "start_time": "2024-01-04T23:16:16.341398200Z"
    }
   }
  },
  {
   "cell_type": "code",
   "execution_count": 179,
   "outputs": [],
   "source": [
    "from langchain.chains import RetrievalQA\n",
    "\n",
    "qa_chain = RetrievalQA.from_chain_type(\n",
    "    llm,\n",
    "    retriever=vectordb.as_retriever(),\n",
    "    return_source_documents=True,\n",
    "    chain_type_kwargs={\"prompt\": QA_CHAIN_PROMPT}\n",
    ")"
   ],
   "metadata": {
    "collapsed": false,
    "ExecuteTime": {
     "end_time": "2024-01-04T23:16:16.357665Z",
     "start_time": "2024-01-04T23:16:16.345603900Z"
    }
   }
  },
  {
   "cell_type": "code",
   "execution_count": 180,
   "outputs": [
    {
     "name": "stdout",
     "output_type": "stream",
     "text": [
      " I'm sorry, but the provided context does not contain any information about promotions for Google.\n",
      "Thanks for asking!\n",
      "[Document(page_content='Source: “Promotion” tab within the October 9, 2023 Pricing & Promotions Report in Dashboard Recent Reports\\nTop\\nGoogle Unveils Pixel 8 & Pixel 8 Pro Smartphones\\nAt its annual fall launch event, Google officially announced the Pixel 8 and Pixel 8 Pro smartphones.  The new \\ngeneration leads with a distinct focus on AI, Android 14 with seven years of OS upgrades, and performance based on a \\nmore powerful Tensor G3 processor, Google’s custom processor.  The Pixel 8 and Pixel 8 Pro are currently available for', metadata={'page': 2, 'source': 'data/outbox\\\\gap intelligence_ Smartphones (US) Market Intelligence Report - Oct 09, 2023.pdf'}), Document(page_content='Source: “Promotion” tab within the October 9, 2023 Pricing & Promotions Report in Dashboard Recent Reports\\nTop\\nGoogle Unveils Pixel 8 & Pixel 8 Pro Smartphones\\nAt its annual fall launch event, Google officially announced the Pixel 8 and Pixel 8 Pro smartphones.  The new \\ngeneration leads with a distinct focus on AI, Android 14 with seven years of OS upgrades, and performance based on a \\nmore powerful Tensor G3 processor, Google’s custom processor.  The Pixel 8 and Pixel 8 Pro are currently available for', metadata={'page': 2, 'source': 'data/outbox\\\\gap intelligence_ Smartphones (US) Market Intelligence Report - Oct 09, 2023.pdf'}), Document(page_content='Source: “Promotion” tab within the October 9, 2023 Pricing & Promotions Report in Dashboard Recent Reports\\nTop\\nGoogle Unveils Pixel 8 & Pixel 8 Pro Smartphones\\nAt its annual fall launch event, Google officially announced the Pixel 8 and Pixel 8 Pro smartphones.  The new \\ngeneration leads with a distinct focus on AI, Android 14 with seven years of OS upgrades, and performance based on a \\nmore powerful Tensor G3 processor, Google’s custom processor.  The Pixel 8 and Pixel 8 Pro are currently available for', metadata={'page': 2, 'source': 'data/outbox\\\\gap intelligence_ Smartphones (US) Market Intelligence Report - Oct 09, 2023.pdf'}), Document(page_content=\"Google Segment Q3 2023\\n\\uffffGoogle Search & other revenue was up 11% YoY to $44 billion\\n\\uffffYouTube ads revenue was up 12% YoY to $8 billion\\n\\uffffGoogle Network revenue was down 2% YoY to $7.7 billion\\n\\uffffGoogle Advertising revenue was up 9% YoY to $59.6 billion\\n\\uffffGoogle other revenue was up 21% YoY to $8.3 billion\\n\\uffffGoogle Services total revenue was up 11% YoY to $68 billion\\n\\uffffGoogle Cloud revenue was up 22% YoY to $8.4 billion\\nOutlook\\nAlphabet's CFO, Sundar Pichai, stated that Search and YouTube remained the most significant contributors to its \\nrevenue growth and momentum in its Cloud segment. Alphabet will continue to invest in AI-enabled opportunities and \\nplans to continue investing in the Search Generative Experience, expanding to more countries and languages after\", metadata={'page': 15, 'source': 'data/outbox\\\\Google’s Pixel 8 Generation Gains Expansion Across Channels.pdf'})]\n"
     ]
    }
   ],
   "source": [
    "question = \"Tell me about the promotions for Google\"\n",
    "result = qa_chain({\"query\": question})\n",
    "print(result[\"result\"])\n",
    "print(result[\"source_documents\"])"
   ],
   "metadata": {
    "collapsed": false,
    "ExecuteTime": {
     "end_time": "2024-01-04T23:16:18.759876700Z",
     "start_time": "2024-01-04T23:16:16.362650900Z"
    }
   }
  },
  {
   "cell_type": "markdown",
   "source": [
    "# Adding Memory"
   ],
   "metadata": {
    "collapsed": false
   }
  },
  {
   "cell_type": "code",
   "execution_count": 181,
   "outputs": [],
   "source": [
    "from langchain.memory import ConversationBufferMemory\n",
    "memory = ConversationBufferMemory(\n",
    "    memory_key=\"chat_history\",\n",
    "    return_messages=True\n",
    ")"
   ],
   "metadata": {
    "collapsed": false,
    "ExecuteTime": {
     "end_time": "2024-01-04T23:16:18.764779800Z",
     "start_time": "2024-01-04T23:16:18.758835400Z"
    }
   }
  },
  {
   "cell_type": "markdown",
   "source": [
    "# Conversational Chain"
   ],
   "metadata": {
    "collapsed": false
   }
  },
  {
   "cell_type": "code",
   "execution_count": 182,
   "outputs": [],
   "source": [
    "from langchain.chains import ConversationalRetrievalChain\n",
    "retriever=vectordb.as_retriever()\n",
    "qa = ConversationalRetrievalChain.from_llm(\n",
    "    llm,\n",
    "    retriever=retriever,\n",
    "    memory=memory\n",
    ")"
   ],
   "metadata": {
    "collapsed": false,
    "ExecuteTime": {
     "end_time": "2024-01-04T23:16:18.768771900Z",
     "start_time": "2024-01-04T23:16:18.764779800Z"
    }
   }
  },
  {
   "cell_type": "code",
   "execution_count": 183,
   "outputs": [
    {
     "name": "stdout",
     "output_type": "stream",
     "text": [
      " Sure, here are the Black Friday insights:\n",
      "\n",
      "- **Smartphones**:\n",
      "  - Samsung and Motorola are dominating the prepaid segment in November.\n",
      "  - Black Friday deals on smartphones are available in the following reports:\n",
      "    - Black Friday 2023 Preview: Best Buy Smartphones\n",
      "    - Black Friday 2023 Preview: Costco Smartphones\n",
      "    - Black Friday 2023 Preview: Target Smartphones\n",
      "    - Black Friday 2023 Preview: Walmart Smartphones\n",
      "\n",
      "- **Retail**:\n",
      "  - Target's Q3 2023 total revenue decreased by 4.2%\n"
     ]
    }
   ],
   "source": [
    "# question = \"Tell me about the unlock price range of Nothing Phone 2\"\n",
    "question = \"What are the black friday insights?\"\n",
    "result = qa_chain({\"query\": question})\n",
    "print(result[\"result\"])\n",
    "# print(result[\"source_documents\"])"
   ],
   "metadata": {
    "collapsed": false,
    "ExecuteTime": {
     "end_time": "2024-01-04T23:16:21.253971300Z",
     "start_time": "2024-01-04T23:16:18.772773600Z"
    }
   }
  },
  {
   "cell_type": "code",
   "execution_count": 184,
   "outputs": [
    {
     "name": "stdout",
     "output_type": "stream",
     "text": [
      "{'question': 'What are its features?', 'chat_history': [HumanMessage(content='What are its features?'), AIMessage(content=' The Nothing Phone (2a) is rumored to have the following features:\\n\\n- 6.7\" AMOLED display with 120Hz refresh rate and 1,084 x 2,412 resolution sourced from Visionox\\n- MediaTek Dimensity 7200 processor\\n- Dual 50MP rear cameras (Samsung S5KGN9 & S5KJN1; 1/2.76\" & 0.64-micron pixel size)\\n- 32MP front camera (Sony IMX615)\\n- Available in black and white')], 'answer': ' The Nothing Phone (2a) is rumored to have the following features:\\n\\n- 6.7\" AMOLED display with 120Hz refresh rate and 1,084 x 2,412 resolution sourced from Visionox\\n- MediaTek Dimensity 7200 processor\\n- Dual 50MP rear cameras (Samsung S5KGN9 & S5KJN1; 1/2.76\" & 0.64-micron pixel size)\\n- 32MP front camera (Sony IMX615)\\n- Available in black and white'}\n"
     ]
    }
   ],
   "source": [
    "question = \"What are its features?\"\n",
    "result = qa({\"question\": question})\n",
    "print(result)"
   ],
   "metadata": {
    "collapsed": false,
    "ExecuteTime": {
     "end_time": "2024-01-04T23:16:23.802228500Z",
     "start_time": "2024-01-04T23:16:21.258158700Z"
    }
   }
  },
  {
   "cell_type": "code",
   "execution_count": 185,
   "outputs": [
    {
     "data": {
      "text/plain": "' The rumored features of the Nothing Phone (2a) include:\\n\\n- 6.7” AMOLED display with 120Hz refresh rate and 1,084 x 2,412 resolution sourced from Visionox\\n- MediaTek Dimensity 7200 processor\\n- Dual 50MP rear cameras (Samsung S5KGN9 & S5KJN1; 1/2.76”& 0.64-micron pixel size)\\n- 32MP front camera (Sony IMX615)\\n- Black and white color options'"
     },
     "execution_count": 185,
     "metadata": {},
     "output_type": "execute_result"
    }
   ],
   "source": [
    "question = \"What did you say in your previous response?\"\n",
    "result = qa({\"question\": question})\n",
    "result['answer']\n",
    "# print(result[\"source_documents\"])"
   ],
   "metadata": {
    "collapsed": false,
    "ExecuteTime": {
     "end_time": "2024-01-04T23:16:26.941656400Z",
     "start_time": "2024-01-04T23:16:23.803249400Z"
    }
   }
  },
  {
   "cell_type": "code",
   "execution_count": 186,
   "outputs": [],
   "source": [
    "question = \"What are the promotions about Google?\"\n",
    "docs = vectordb.similarity_search(query=question, k=1)\n",
    "info = [doc.page_content for doc in docs]"
   ],
   "metadata": {
    "collapsed": false,
    "ExecuteTime": {
     "end_time": "2024-01-04T23:16:27.264953700Z",
     "start_time": "2024-01-04T23:16:26.945824800Z"
    }
   }
  },
  {
   "cell_type": "code",
   "execution_count": 187,
   "outputs": [
    {
     "name": "stdout",
     "output_type": "stream",
     "text": [
      "<class 'str'>  There is no information about promotions about Google in the context you provided.\n",
      "Thanks for asking!\n"
     ]
    }
   ],
   "source": [
    "response = llm.invoke(template.format(context=\" | \".join(info), question=question))\n",
    "\n",
    "print(type(response), response)"
   ],
   "metadata": {
    "collapsed": false,
    "ExecuteTime": {
     "end_time": "2024-01-04T23:16:27.970421200Z",
     "start_time": "2024-01-04T23:16:27.266951400Z"
    }
   }
  },
  {
   "cell_type": "markdown",
   "source": [
    "# Intelligent Search"
   ],
   "metadata": {
    "collapsed": false
   }
  },
  {
   "cell_type": "code",
   "execution_count": 195,
   "outputs": [],
   "source": [
    "from time import sleep\n",
    "\n",
    "def similarity_search(k, question):\n",
    "    docs = vectordb.similarity_search(query=question, k=k)\n",
    "    info = [doc.page_content for doc in docs]\n",
    "    return info, docs\n",
    "\n",
    "def intelligent_search(question: str, sources: bool = False, remember: bool = False, memory: dict = None):\n",
    "    if memory is None: memory = {}\n",
    "\n",
    "    template = \"\"\"You are a Data Analyst. Use the following pieces of context to answer the question at the end. If you don't know the answer, just say that you don't know, don't try to make up an answer. Try to be as detailed and point-wise as possible. Always say \"thanks for asking!\" at the end of the answer. ONLY USE ENGLISH FOR RESPONDING.\n",
    "{context}\n",
    "{memory}\n",
    "Question: {question}\n",
    "Helpful Answer:\"\"\"\n",
    "\n",
    "    k = 5\n",
    "    print(f\"Searching with k={k}...\")\n",
    "\n",
    "    info, _sources = similarity_search(k, question)\n",
    "    response = llm.invoke(template.format(context=\" | \".join(info), memory=memory, question=question))\n",
    "\n",
    "    failed_responses = [\"no information\", \"i cannot answer\", \"context provided does not mention\"]\n",
    "\n",
    "    if all(failed_response not in response.lower() for failed_response in failed_responses):\n",
    "        print(\"Response:\")\n",
    "        print(response)\n",
    "        sleep(1)\n",
    "        satisfied = input(\"Are you satisfied with the response? (y/N)\").strip().lower() == \"y\"\n",
    "    else:\n",
    "        print(\"Failed to generate response, widening search radius...\")\n",
    "        satisfied = False\n",
    "\n",
    "    while not satisfied:\n",
    "        k += 5\n",
    "        print(f\"Searching with k={k}...\")\n",
    "        info, _sources = similarity_search(k, question)\n",
    "        response = llm.invoke(template.format(context=\" | \".join(info), memory=memory, question=question))\n",
    "\n",
    "        if all(failed_response not in response.lower() for failed_response in failed_responses):\n",
    "            print(\"Response:\")\n",
    "            print(response)\n",
    "            sleep(1)\n",
    "            satisfied = input(\"Are you satisfied with the response? (y/N)\").strip().lower() == \"y\"\n",
    "        else:\n",
    "            print(\"Failed to generate response, widening search radius...\")\n",
    "            satisfied = False\n",
    "\n",
    "        if k > 100 or satisfied:\n",
    "            break\n",
    "\n",
    "    if remember:\n",
    "        memory[question] = response\n",
    "    if sources:\n",
    "        return {\"AI Response\": response, \"Sources\": _sources}, memory\n",
    "    return response, memory"
   ],
   "metadata": {
    "collapsed": false,
    "ExecuteTime": {
     "end_time": "2024-01-04T23:20:34.132797600Z",
     "start_time": "2024-01-04T23:20:34.122225700Z"
    }
   }
  },
  {
   "cell_type": "code",
   "execution_count": 196,
   "outputs": [],
   "source": [
    "memory = {}"
   ],
   "metadata": {
    "collapsed": false,
    "ExecuteTime": {
     "end_time": "2024-01-04T23:20:34.443993800Z",
     "start_time": "2024-01-04T23:20:34.438155900Z"
    }
   }
  },
  {
   "cell_type": "code",
   "execution_count": 212,
   "outputs": [
    {
     "name": "stdout",
     "output_type": "stream",
     "text": [
      "Searching with k=5...\n",
      "Response:\n",
      " Samsung's placements on BBY improved, with the Z series rising to the 1st Fold on the phone deals page, while the 2nd Fold promotes the ongoing S22 series' $800 unique discount.\n",
      "- Samsung's Z series has improved its position on Best Buy's (BBY) website.\n",
      "- The Z series is now featured as the first foldable phone on BBY's phone deals page.\n",
      "- The second foldable phone on the page is promoting the ongoing $800 unique discount on the S22 series.\n",
      "Thanks for asking!\n",
      "Searching with k=10...\n",
      "Response:\n",
      " Samsung's placements on BBY have indeed improved, with the Z series rising to the 1st Fold position on the phone deals page. This indicates that Samsung's foldable devices are gaining prominence and visibility within Best Buy's product offerings. Additionally, the 2nd Fold promotes the ongoing S22 series' unique $800 discount, highlighting Samsung's efforts to drive sales and clear inventory for its previous generation of smartphones. These strategic placements and promotions demonstrate Samsung's focus on capturing market share and maintaining a competitive edge in the smartphone industry. Thanks for asking!\n",
      "Searching with k=15...\n",
      "Failed to generate response, widening search radius...\n",
      "Searching with k=20...\n",
      "Response:\n",
      " Samsung's placements on Best Buy (BBY) have shown improvement, with the Z series rising to the first foldable spot on the phone deals page. Additionally, a second foldable placement promotes the ongoing S22 series' unique discount of $800. These strategic placements indicate Samsung's efforts to increase visibility and drive sales for both its foldable devices and the S22 series. Thanks for asking!\n"
     ]
    }
   ],
   "source": [
    "# question = \"How is the incentive Year-over-Year value looking for Google?\"\n",
    "# question = \"What are the promotions about Google?\"\n",
    "# question = \"What are the black friday insights?\"\n",
    "# question = \"When was Google Pixel 8 Pro launched?\"\n",
    "# question = \"What is verizon's growth?\"\n",
    "# question = \"Galaxy Fold/Flip 5 vs Pixel Fold US Promo Comparison (On Sale: 8/11)\"\n",
    "question = \"Samsung’s placements on BBY improved, with Z series rising to 1st Fold on phone deals page, while 2nd Fold promotes the ongoing S22 series’ $800 unique discount.\"\n",
    "\n",
    "result, memory = intelligent_search(question=question, sources=True)"
   ],
   "metadata": {
    "collapsed": false,
    "ExecuteTime": {
     "end_time": "2024-01-04T23:28:47.936267100Z",
     "start_time": "2024-01-04T23:28:24.199971800Z"
    }
   }
  },
  {
   "cell_type": "code",
   "execution_count": 200,
   "outputs": [],
   "source": [
    "# result"
   ],
   "metadata": {
    "collapsed": false,
    "ExecuteTime": {
     "end_time": "2024-01-04T23:23:00.047420500Z",
     "start_time": "2024-01-04T23:23:00.040907700Z"
    }
   }
  },
  {
   "cell_type": "code",
   "execution_count": 190,
   "outputs": [],
   "source": [],
   "metadata": {
    "collapsed": false,
    "ExecuteTime": {
     "end_time": "2024-01-04T23:16:34.089165900Z",
     "start_time": "2024-01-04T23:16:34.085142800Z"
    }
   }
  }
 ],
 "metadata": {
  "kernelspec": {
   "display_name": "Python 3",
   "language": "python",
   "name": "python3"
  },
  "language_info": {
   "codemirror_mode": {
    "name": "ipython",
    "version": 2
   },
   "file_extension": ".py",
   "mimetype": "text/x-python",
   "name": "python",
   "nbconvert_exporter": "python",
   "pygments_lexer": "ipython2",
   "version": "2.7.6"
  }
 },
 "nbformat": 4,
 "nbformat_minor": 0
}
