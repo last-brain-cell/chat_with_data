{
 "cells": [
  {
   "cell_type": "code",
   "execution_count": 1,
   "metadata": {
    "collapsed": true,
    "ExecuteTime": {
     "end_time": "2024-01-04T04:49:07.130672Z",
     "start_time": "2024-01-04T04:49:07.000422500Z"
    }
   },
   "outputs": [],
   "source": [
    "# !pip install langchain\n",
    "# !pip install pypdf\n",
    "# !pip install google-cloud-aiplatform>=1.38.0\n",
    "# !pip install chromadb"
   ]
  },
  {
   "cell_type": "code",
   "execution_count": 2,
   "outputs": [
    {
     "data": {
      "text/plain": "True"
     },
     "execution_count": 2,
     "metadata": {},
     "output_type": "execute_result"
    }
   ],
   "source": [
    "import dotenv\n",
    "\n",
    "dotenv.load_dotenv(\".env\")"
   ],
   "metadata": {
    "collapsed": false,
    "ExecuteTime": {
     "end_time": "2024-01-04T04:49:07.131964100Z",
     "start_time": "2024-01-04T04:49:07.012285700Z"
    }
   }
  },
  {
   "cell_type": "markdown",
   "source": [
    "# PDF Loader"
   ],
   "metadata": {
    "collapsed": false
   }
  },
  {
   "cell_type": "code",
   "execution_count": 3,
   "outputs": [],
   "source": [
    "from langchain.document_loaders import PyPDFLoader\n",
    "import glob\n",
    "\n",
    "pdf_directory = \"data/outbox/\"\n",
    "\n",
    "pdf_files = glob.glob(pdf_directory + \"*.pdf\")\n",
    "\n",
    "loaders = [PyPDFLoader(pdf_file) for pdf_file in pdf_files]\n",
    "docs = []\n",
    "\n",
    "for loader in loaders:\n",
    "    docs.extend(loader.load())"
   ],
   "metadata": {
    "collapsed": false,
    "ExecuteTime": {
     "end_time": "2024-01-04T04:49:20.059534Z",
     "start_time": "2024-01-04T04:49:07.070668700Z"
    }
   }
  },
  {
   "cell_type": "code",
   "execution_count": 4,
   "outputs": [],
   "source": [
    "from langchain.text_splitter import RecursiveCharacterTextSplitter\n",
    "\n",
    "text_splitter = RecursiveCharacterTextSplitter(\n",
    "    chunk_size = 1500,\n",
    "    chunk_overlap = 150\n",
    ")\n",
    "\n",
    "splits = text_splitter.split_documents(docs)"
   ],
   "metadata": {
    "collapsed": false,
    "ExecuteTime": {
     "end_time": "2024-01-04T04:49:20.120054400Z",
     "start_time": "2024-01-04T04:49:20.048540700Z"
    }
   }
  },
  {
   "cell_type": "code",
   "execution_count": 5,
   "outputs": [
    {
     "data": {
      "text/plain": "539"
     },
     "execution_count": 5,
     "metadata": {},
     "output_type": "execute_result"
    }
   ],
   "source": [
    "len(splits)"
   ],
   "metadata": {
    "collapsed": false,
    "ExecuteTime": {
     "end_time": "2024-01-04T04:49:20.143567600Z",
     "start_time": "2024-01-04T04:49:20.117513100Z"
    }
   }
  },
  {
   "cell_type": "markdown",
   "source": [
    "# Embedding and VectorStore"
   ],
   "metadata": {
    "collapsed": false
   }
  },
  {
   "cell_type": "code",
   "execution_count": 24,
   "outputs": [
    {
     "name": "stderr",
     "output_type": "stream",
     "text": [
      "Model_name will become a required arg for VertexAIEmbeddings starting from Feb-01-2024. Currently the default is set to textembedding-gecko@001\n"
     ]
    }
   ],
   "source": [
    "from langchain_community.embeddings import VertexAIEmbeddings\n",
    "\n",
    "embeddings = VertexAIEmbeddings()"
   ],
   "metadata": {
    "collapsed": false,
    "ExecuteTime": {
     "end_time": "2024-01-04T04:53:32.665215700Z",
     "start_time": "2024-01-04T04:53:31.220428Z"
    }
   }
  },
  {
   "cell_type": "code",
   "execution_count": 7,
   "outputs": [],
   "source": [
    "from langchain.vectorstores import Chroma\n",
    "\n",
    "persist_directory = 'data/chroma/'\n",
    "\n",
    "vectordb = Chroma.from_documents(\n",
    "    documents=splits,\n",
    "    embedding=embeddings,\n",
    "    persist_directory=persist_directory\n",
    ")"
   ],
   "metadata": {
    "collapsed": false,
    "ExecuteTime": {
     "end_time": "2024-01-04T04:49:51.394859400Z",
     "start_time": "2024-01-04T04:49:35.660256400Z"
    }
   }
  },
  {
   "cell_type": "code",
   "execution_count": 23,
   "outputs": [],
   "source": [
    "from langchain_community.chat_models import ChatVertexAI\n",
    "from langchain.llms import VertexAI\n",
    "\n",
    "# llm = ChatVertexAI(location=\"us-central1\")\n",
    "#\n",
    "llm = VertexAI(model=\"gemini-pro\", verbose=True, temperature=0)"
   ],
   "metadata": {
    "collapsed": false,
    "ExecuteTime": {
     "end_time": "2024-01-04T04:53:31.219284800Z",
     "start_time": "2024-01-04T04:53:28.088485800Z"
    }
   }
  },
  {
   "cell_type": "markdown",
   "source": [
    "# Retrieval QnA"
   ],
   "metadata": {
    "collapsed": false
   }
  },
  {
   "cell_type": "code",
   "execution_count": 13,
   "outputs": [],
   "source": [
    "from langchain.prompts import PromptTemplate\n",
    "\n",
    "template = \"\"\"You are a Data Analyst. Use the following pieces of context to answer the question at the end. If you don't know the answer, just say that you don't know, don't try to make up an answer. Try to be as detailed and point wise as possible. Always say \"thanks for asking!\" at the end of the answer. ONLY USE ENGLISH FOR RESPONDING.\n",
    "{context}\n",
    "Question: {question}\n",
    "Helpful Answer:\"\"\"\n",
    "QA_CHAIN_PROMPT = PromptTemplate.from_template(template)"
   ],
   "metadata": {
    "collapsed": false,
    "ExecuteTime": {
     "end_time": "2024-01-04T04:50:00.883728500Z",
     "start_time": "2024-01-04T04:50:00.806535100Z"
    }
   }
  },
  {
   "cell_type": "code",
   "execution_count": 14,
   "outputs": [],
   "source": [
    "from langchain.chains import RetrievalQA\n",
    "\n",
    "qa_chain = RetrievalQA.from_chain_type(\n",
    "    llm,\n",
    "    retriever=vectordb.as_retriever(),\n",
    "    return_source_documents=True,\n",
    "    chain_type_kwargs={\"prompt\": QA_CHAIN_PROMPT}\n",
    ")"
   ],
   "metadata": {
    "collapsed": false,
    "ExecuteTime": {
     "end_time": "2024-01-04T04:50:00.929412700Z",
     "start_time": "2024-01-04T04:50:00.848555900Z"
    }
   }
  },
  {
   "cell_type": "code",
   "execution_count": 50,
   "outputs": [
    {
     "name": "stdout",
     "output_type": "stream",
     "text": [
      " There is no information about promotions for Google in the context you provided.\n",
      "Thanks for asking!\n",
      "[Document(page_content='Source: “Promotion” tab within the October 9, 2023 Pricing & Promotions Report in Dashboard Recent Reports\\nTop\\nGoogle Unveils Pixel 8 & Pixel 8 Pro Smartphones\\nAt its annual fall launch event, Google officially announced the Pixel 8 and Pixel 8 Pro smartphones.  The new \\ngeneration leads with a distinct focus on AI, Android 14 with seven years of OS upgrades, and performance based on a \\nmore powerful Tensor G3 processor, Google’s custom processor.  The Pixel 8 and Pixel 8 Pro are currently available for', metadata={'page': 2, 'source': 'data/outbox\\\\gap intelligence_ Smartphones (US) Market Intelligence Report - Oct 09, 2023.pdf'}), Document(page_content='Source: “Promotion” tab within the October 9, 2023 Pricing & Promotions Report in Dashboard Recent Reports\\nTop\\nGoogle Unveils Pixel 8 & Pixel 8 Pro Smartphones\\nAt its annual fall launch event, Google officially announced the Pixel 8 and Pixel 8 Pro smartphones.  The new \\ngeneration leads with a distinct focus on AI, Android 14 with seven years of OS upgrades, and performance based on a \\nmore powerful Tensor G3 processor, Google’s custom processor.  The Pixel 8 and Pixel 8 Pro are currently available for', metadata={'page': 2, 'source': 'data/outbox\\\\gap intelligence_ Smartphones (US) Market Intelligence Report - Oct 09, 2023.pdf'}), Document(page_content=\"Google Segment Q3 2023\\n\\uffffGoogle Search & other revenue was up 11% YoY to $44 billion\\n\\uffffYouTube ads revenue was up 12% YoY to $8 billion\\n\\uffffGoogle Network revenue was down 2% YoY to $7.7 billion\\n\\uffffGoogle Advertising revenue was up 9% YoY to $59.6 billion\\n\\uffffGoogle other revenue was up 21% YoY to $8.3 billion\\n\\uffffGoogle Services total revenue was up 11% YoY to $68 billion\\n\\uffffGoogle Cloud revenue was up 22% YoY to $8.4 billion\\nOutlook\\nAlphabet's CFO, Sundar Pichai, stated that Search and YouTube remained the most significant contributors to its \\nrevenue growth and momentum in its Cloud segment. Alphabet will continue to invest in AI-enabled opportunities and \\nplans to continue investing in the Search Generative Experience, expanding to more countries and languages after\", metadata={'page': 15, 'source': 'data/outbox\\\\Google’s Pixel 8 Generation Gains Expansion Across Channels.pdf'}), Document(page_content=\"Google Segment Q3 2023\\n\\uffffGoogle Search & other revenue was up 11% YoY to $44 billion\\n\\uffffYouTube ads revenue was up 12% YoY to $8 billion\\n\\uffffGoogle Network revenue was down 2% YoY to $7.7 billion\\n\\uffffGoogle Advertising revenue was up 9% YoY to $59.6 billion\\n\\uffffGoogle other revenue was up 21% YoY to $8.3 billion\\n\\uffffGoogle Services total revenue was up 11% YoY to $68 billion\\n\\uffffGoogle Cloud revenue was up 22% YoY to $8.4 billion\\nOutlook\\nAlphabet's CFO, Sundar Pichai, stated that Search and YouTube remained the most significant contributors to its \\nrevenue growth and momentum in its Cloud segment. Alphabet will continue to invest in AI-enabled opportunities and \\nplans to continue investing in the Search Generative Experience, expanding to more countries and languages after\", metadata={'page': 15, 'source': 'data/outbox\\\\Google’s Pixel 8 Generation Gains Expansion Across Channels.pdf'})]\n"
     ]
    }
   ],
   "source": [
    "question = \"Tell me about the promotions for Google\"\n",
    "result = qa_chain({\"query\": question})\n",
    "print(result[\"result\"])\n",
    "print(result[\"source_documents\"])"
   ],
   "metadata": {
    "collapsed": false,
    "ExecuteTime": {
     "end_time": "2024-01-04T05:19:02.172516800Z",
     "start_time": "2024-01-04T05:18:59.606072100Z"
    }
   }
  },
  {
   "cell_type": "markdown",
   "source": [
    "# Adding Memory"
   ],
   "metadata": {
    "collapsed": false
   }
  },
  {
   "cell_type": "code",
   "execution_count": 35,
   "outputs": [],
   "source": [
    "from langchain.memory import ConversationBufferMemory\n",
    "memory = ConversationBufferMemory(\n",
    "    memory_key=\"chat_history\",\n",
    "    return_messages=True\n",
    ")"
   ],
   "metadata": {
    "collapsed": false,
    "ExecuteTime": {
     "end_time": "2024-01-04T04:59:52.566041900Z",
     "start_time": "2024-01-04T04:59:52.541079600Z"
    }
   }
  },
  {
   "cell_type": "markdown",
   "source": [
    "# Conversational Chain"
   ],
   "metadata": {
    "collapsed": false
   }
  },
  {
   "cell_type": "code",
   "execution_count": 36,
   "outputs": [],
   "source": [
    "from langchain.chains import ConversationalRetrievalChain\n",
    "retriever=vectordb.as_retriever()\n",
    "qa = ConversationalRetrievalChain.from_llm(\n",
    "    llm,\n",
    "    retriever=retriever,\n",
    "    memory=memory\n",
    ")"
   ],
   "metadata": {
    "collapsed": false,
    "ExecuteTime": {
     "end_time": "2024-01-04T04:59:54.299081700Z",
     "start_time": "2024-01-04T04:59:54.282352100Z"
    }
   }
  },
  {
   "cell_type": "code",
   "execution_count": 46,
   "outputs": [
    {
     "name": "stdout",
     "output_type": "stream",
     "text": [
      " Sure, here are the Black Friday insights:\n",
      "\n",
      "- **Smartphones**:\n",
      "  - Samsung and Motorola are dominating the prepaid segment in November.\n",
      "  - Black Friday deals on smartphones are available in the following reports:\n",
      "    - Black Friday 2023 Preview: Best Buy Smartphones\n",
      "    - Black Friday 2023 Preview: Costco Smartphones\n",
      "    - Black Friday 2023 Preview: Target Smartphones\n",
      "    - Black Friday 2023 Preview: Walmart Smartphones\n",
      "\n",
      "- **Retail**:\n",
      "  - Target's Q3 2023 financial results show a 4.2%\n"
     ]
    }
   ],
   "source": [
    "# question = \"Tell me about the unlock price range of Nothing Phone 2\"\n",
    "question = \"What are the black friday insights?\"\n",
    "result = qa_chain({\"query\": question})\n",
    "print(result[\"result\"])\n",
    "# print(result[\"source_documents\"])"
   ],
   "metadata": {
    "collapsed": false,
    "ExecuteTime": {
     "end_time": "2024-01-04T05:11:16.829222200Z",
     "start_time": "2024-01-04T05:11:14.146984500Z"
    }
   }
  },
  {
   "cell_type": "code",
   "execution_count": 42,
   "outputs": [
    {
     "name": "stdout",
     "output_type": "stream",
     "text": [
      "{'question': 'What are its features?', 'chat_history': [HumanMessage(content='What are its features?'), AIMessage(content=' The Nothing Phone (2a) is rumored to have the following features:\\n\\n- 6.7\" AMOLED display with 120Hz refresh rate and 1,084 x 2,412 resolution sourced from Visionox\\n- MediaTek Dimensity 7200 processor\\n- Dual 50MP rear cameras (Samsung S5KGN9 & S5KJN1; 1/2.76\" & 0.64-micron pixel size)\\n- 32MP front camera (Sony IMX615)\\n- Available in black and white'), HumanMessage(content='What are its features?'), AIMessage(content=\" - Écran OLED de 6,5 pouces avec un taux de rafraîchissement de 120 Hz (format 21:9)\\n- Processeur Qualcomm Snapdragon 8 Gen 2\\n- 12 Go de RAM\\n- 256 Go de stockage interne\\n- Prise jack 3,5 mm\\n- Batterie de 5 000 mAh (charge filaire 30 W, charge sans fil 15 W)\\n- Emplacement pour carte microSD\\n- Bouton d'obturation dédié pour l'appareil photo\\n- Deux haut-parleurs stéréo\"), HumanMessage(content='What are its features?'), AIMessage(content=\" - Écran OLED de 6,5 pouces avec un taux de rafraîchissement de 120 Hz (format 21:9)\\n- Processeur Qualcomm Snapdragon 8 Gen 2\\n- 12 Go de RAM\\n- 256 Go de stockage interne\\n- Prise jack 3,5 mm\\n- Batterie de 5 000 mAh (charge filaire 30 W, charge sans fil 15 W)\\n- Emplacement pour carte microSD\\n- Bouton d'obturation dédié pour l'appareil photo\\n- Deux haut-parleurs stéréo\"), HumanMessage(content='What are its features?'), AIMessage(content=\" - Écran OLED de 6,5 pouces avec un taux de rafraîchissement de 120 Hz (format 21:9)\\n- Processeur Qualcomm Snapdragon 8 Gen 2\\n- 12 Go de RAM\\n- 256 Go de stockage interne\\n- Prise jack 3,5 mm\\n- Batterie de 5 000 mAh (charge filaire 30 W, charge sans fil 15 W)\\n- Emplacement pour carte microSD\\n- Bouton d'obturation dédié pour l'appareil photo\\n- Deux haut-parleurs stéréo\")], 'answer': \" - Écran OLED de 6,5 pouces avec un taux de rafraîchissement de 120 Hz (format 21:9)\\n- Processeur Qualcomm Snapdragon 8 Gen 2\\n- 12 Go de RAM\\n- 256 Go de stockage interne\\n- Prise jack 3,5 mm\\n- Batterie de 5 000 mAh (charge filaire 30 W, charge sans fil 15 W)\\n- Emplacement pour carte microSD\\n- Bouton d'obturation dédié pour l'appareil photo\\n- Deux haut-parleurs stéréo\"}\n"
     ]
    }
   ],
   "source": [
    "question = \"What are its features?\"\n",
    "result = qa({\"question\": question})\n",
    "print(result)"
   ],
   "metadata": {
    "collapsed": false,
    "ExecuteTime": {
     "end_time": "2024-01-04T05:01:02.622919100Z",
     "start_time": "2024-01-04T05:00:59.100880600Z"
    }
   }
  },
  {
   "cell_type": "code",
   "execution_count": 20,
   "outputs": [
    {
     "data": {
      "text/plain": "\" I don't have a previous answer to reference.\""
     },
     "execution_count": 20,
     "metadata": {},
     "output_type": "execute_result"
    }
   ],
   "source": [
    "question = \"What did you say in your previous response?\"\n",
    "result = qa({\"question\": question})\n",
    "result['answer']\n",
    "# print(result[\"source_documents\"])"
   ],
   "metadata": {
    "collapsed": false,
    "ExecuteTime": {
     "end_time": "2024-01-04T04:50:09.401684200Z",
     "start_time": "2024-01-04T04:50:06.879832Z"
    }
   }
  },
  {
   "cell_type": "code",
   "execution_count": 67,
   "outputs": [],
   "source": [
    "question = \"What are the promotions about Google?\"\n",
    "docs = vectordb.similarity_search(query=question, k=1)\n",
    "info = [doc.page_content for doc in docs]"
   ],
   "metadata": {
    "collapsed": false,
    "ExecuteTime": {
     "end_time": "2024-01-04T06:08:13.078619300Z",
     "start_time": "2024-01-04T06:08:10.828491500Z"
    }
   }
  },
  {
   "cell_type": "code",
   "execution_count": 69,
   "outputs": [
    {
     "name": "stdout",
     "output_type": "stream",
     "text": [
      "<class 'str'>  There is no information about promotions about Google in the context you provided.\n",
      "Thanks for asking!\n"
     ]
    }
   ],
   "source": [
    "response = llm.invoke(template.format(context=\" | \".join(info), question=question))\n",
    "\n",
    "print(type(response), response)"
   ],
   "metadata": {
    "collapsed": false,
    "ExecuteTime": {
     "end_time": "2024-01-04T06:09:01.129634300Z",
     "start_time": "2024-01-04T06:08:59.906208100Z"
    }
   }
  },
  {
   "cell_type": "markdown",
   "source": [
    "# Intelligent Search"
   ],
   "metadata": {
    "collapsed": false
   }
  },
  {
   "cell_type": "code",
   "execution_count": 133,
   "outputs": [],
   "source": [
    "from time import sleep\n",
    "\n",
    "def similarity_search(k, question):\n",
    "    docs = vectordb.similarity_search(query=question, k=k)\n",
    "    info = [doc.page_content for doc in docs]\n",
    "    return info, docs\n",
    "\n",
    "def intelligent_search(question: str, sources: bool = False, remember: bool = False, memory: dict = None):\n",
    "    if memory is None: memory = {}\n",
    "\n",
    "    template = \"\"\"You are a Data Analyst. Use the following pieces of context to answer the question at the end. If you don't know the answer, just say that you don't know, don't try to make up an answer. Try to be as detailed and point-wise as possible. Always say \"thanks for asking!\" at the end of the answer. ONLY USE ENGLISH FOR RESPONDING.\n",
    "{context}\n",
    "{memory}\n",
    "Question: {question}\n",
    "Helpful Answer:\"\"\"\n",
    "\n",
    "    k = 5\n",
    "    print(f\"Searching with k={k}...\")\n",
    "\n",
    "    info, _sources = similarity_search(k, question)\n",
    "    response = llm.invoke(template.format(context=\" | \".join(info), memory=memory, question=question))\n",
    "\n",
    "    failed_responses = [\"no information\", \"i cannot answer\"]\n",
    "\n",
    "    if all(failed_response not in response.lower() for failed_response in failed_responses):\n",
    "        print(\"Response:\")\n",
    "        print(response)\n",
    "        sleep(1)\n",
    "        satisfied = input(\"Are you satisfied with the response? (y/N)\").strip().lower() == \"y\"\n",
    "    else:\n",
    "        print(\"Failed to generate response, widening search radius...\")\n",
    "        satisfied = False\n",
    "\n",
    "    while not satisfied:\n",
    "        k += 5\n",
    "        print(f\"Searching with k={k}...\")\n",
    "        info, _sources = similarity_search(k, question)\n",
    "        response = llm.invoke(template.format(context=\" | \".join(info), memory=memory, question=question))\n",
    "\n",
    "        if all(failed_response not in response.lower() for failed_response in failed_responses):\n",
    "            print(\"Response:\")\n",
    "            print(response)\n",
    "            sleep(1)\n",
    "            satisfied = input(\"Are you satisfied with the response? (y/N)\").strip().lower() == \"y\"\n",
    "        else:\n",
    "            print(\"Failed to generate response, widening search radius...\")\n",
    "            satisfied = False\n",
    "\n",
    "        if k > 100 or satisfied:\n",
    "            break\n",
    "\n",
    "    if remember:\n",
    "        memory[question] = response\n",
    "    if sources:\n",
    "        return {\"AI Response\": response, \"Sources\": _sources}, memory\n",
    "    return response, memory"
   ],
   "metadata": {
    "collapsed": false,
    "ExecuteTime": {
     "end_time": "2024-01-04T10:34:18.455439900Z",
     "start_time": "2024-01-04T10:34:18.403189900Z"
    }
   }
  },
  {
   "cell_type": "code",
   "execution_count": 134,
   "outputs": [],
   "source": [
    "memory = {}"
   ],
   "metadata": {
    "collapsed": false,
    "ExecuteTime": {
     "end_time": "2024-01-04T10:34:18.826377400Z",
     "start_time": "2024-01-04T10:34:18.811477700Z"
    }
   }
  },
  {
   "cell_type": "code",
   "execution_count": 152,
   "outputs": [
    {
     "name": "stdout",
     "output_type": "stream",
     "text": [
      "Searching with k=5...\n",
      "Response:\n",
      " Verizon expects its Wireless service to see revenue growth between 2.5% to 4.5% for the full year of 2023. Thanks for asking!\n"
     ]
    }
   ],
   "source": [
    "# question = \"How is the incentive Year-over-Year value looking for Google?\"\n",
    "# question = \"What are the promotions about Google?\"\n",
    "# question = \"What are the black friday insights?\"\n",
    "# question = \"When was Google Pixel 8 Pro launched?\"\n",
    "question = \"What is verizon's growth?\"\n",
    "\n",
    "result, memory = intelligent_search(question=question, sources=True)"
   ],
   "metadata": {
    "collapsed": false,
    "ExecuteTime": {
     "end_time": "2024-01-04T12:15:56.558928600Z",
     "start_time": "2024-01-04T12:15:47.707326800Z"
    }
   }
  },
  {
   "cell_type": "code",
   "execution_count": 152,
   "outputs": [],
   "source": [],
   "metadata": {
    "collapsed": false,
    "ExecuteTime": {
     "end_time": "2024-01-04T12:16:02.636672400Z",
     "start_time": "2024-01-04T12:16:02.619661500Z"
    }
   }
  },
  {
   "cell_type": "code",
   "execution_count": null,
   "outputs": [],
   "source": [],
   "metadata": {
    "collapsed": false
   }
  }
 ],
 "metadata": {
  "kernelspec": {
   "display_name": "Python 3",
   "language": "python",
   "name": "python3"
  },
  "language_info": {
   "codemirror_mode": {
    "name": "ipython",
    "version": 2
   },
   "file_extension": ".py",
   "mimetype": "text/x-python",
   "name": "python",
   "nbconvert_exporter": "python",
   "pygments_lexer": "ipython2",
   "version": "2.7.6"
  }
 },
 "nbformat": 4,
 "nbformat_minor": 0
}
